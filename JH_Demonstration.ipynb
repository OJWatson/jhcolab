{
  "nbformat": 4,
  "nbformat_minor": 0,
  "metadata": {
    "colab": {
      "name": "JH_Demonstration",
      "provenance": [],
      "authorship_tag": "ABX9TyPiWMRNG5i/Zy2mucwJQVgT",
      "include_colab_link": true
    },
    "kernelspec": {
      "name": "ir",
      "display_name": "R"
    },
    "accelerator": "GPU"
  },
  "cells": [
    {
      "cell_type": "markdown",
      "metadata": {
        "id": "view-in-github",
        "colab_type": "text"
      },
      "source": [
        "<a href=\"https://colab.research.google.com/github/OJWatson/jhcolab/blob/master/JH_Demonstration.ipynb\" target=\"_parent\"><img src=\"https://colab.research.google.com/assets/colab-badge.svg\" alt=\"Open In Colab\"/></a>"
      ]
    },
    {
      "cell_type": "markdown",
      "metadata": {
        "id": "9o_HNK05BFiu",
        "colab_type": "text"
      },
      "source": [
        "This is a Jupyter notebook. It is similar to an Rmd notebook, but they can be used to run either Julia, Python or R. They were primarily developed for writing Python. Consequently, you write text and code into \"cells\", which can be thought of as sections of text blocks or code chunks in an .Rmd document \n",
        "\n",
        "**Cells** are markdown chunks, and so markdown tags and syntax can be used for text formatting. \n",
        "\n",
        "---\n",
        "\n"
      ]
    },
    {
      "cell_type": "markdown",
      "metadata": {
        "id": "MvCf_GN2Eq3u",
        "colab_type": "text"
      },
      "source": [
        "You can \"click\" through a Jupyter notebook by clicking Shift+Enter, which will execute the current cell and move the cursor to the next cell. Alternatively, to run a cell that contains code you can click on the \"Play\" button in the top left hand corner. When the code is running, you will see the \"Play\" button turn into a \"Pause\" button, which will allow you to stop the current cell while running. You can test this in the following code cell:"
      ]
    },
    {
      "cell_type": "code",
      "metadata": {
        "id": "bgf-_S2a_Ax9",
        "colab_type": "code",
        "colab": {
          "base_uri": "https://localhost:8080/",
          "height": 34
        },
        "outputId": "63dfcba9-ac0b-4d34-93cc-45dec074d22d"
      },
      "source": [
        "# In this cell we can write R code, which will be run on the Google Colab servers\n",
        "a <- 2\n",
        "print(a)"
      ],
      "execution_count": 2,
      "outputs": [
        {
          "output_type": "stream",
          "text": [
            "[1] 2\n"
          ],
          "name": "stdout"
        }
      ]
    },
    {
      "cell_type": "markdown",
      "metadata": {
        "id": "k515ooQ1HNgS",
        "colab_type": "text"
      },
      "source": [
        "There are advantages and disadvantages to using Google Colab Jupyter notebooks for teaching purposes. The main 3 advantages personally all result from moving where the code is running from their laptops to the Cloud. These result in:\n",
        "\n",
        "1. No issues associated with people running different versions of R or having to wait for people to download the required software.\n",
        "1. No issues with different machine operating systems across each student's machines.\n",
        "1. No concerns that individuals with have different machine capabilites that may cause delays when teaching code topics that require computation time.  "
      ]
    },
    {
      "cell_type": "markdown",
      "metadata": {
        "id": "D8TX0P2BKfph",
        "colab_type": "text"
      },
      "source": [
        "However, there are also a number of disadvantages, which relate to whether the Jupyter notebook is the most helpful format for teaching R. For example, I personally feel that Jupyter notebooks are bad for teaching R because:\n",
        "\n",
        "1. They obscure much of how R works and do not introduce the user how to run R locally. \n",
        "2. They rely on an internet connection. \n",
        "3. They are not very intuitive (what is a cell? How do I run the code? Where is my output?) and explaining what is actually going on (your code is not running locally but in the cloud) can cause a lot of confusion. "
      ]
    },
    {
      "cell_type": "markdown",
      "metadata": {
        "id": "0EHuyIcGNfTC",
        "colab_type": "text"
      },
      "source": [
        "However, depending on the teaching format required they can be very helpful. For example, if you are teaching how to use a specific package or how to do a type of statistical modelling that requires a number of software requirements **and** you only have 2 hours, they are very useful. They enable users to quickly get to grips with the learning material, which is useful as it means you can spend more time answering questions about the topic rather than software set up etc.  "
      ]
    },
    {
      "cell_type": "code",
      "metadata": {
        "id": "uNvFuufTOGmX",
        "colab_type": "code",
        "colab": {}
      },
      "source": [
        ""
      ],
      "execution_count": 0,
      "outputs": []
    }
  ]
}