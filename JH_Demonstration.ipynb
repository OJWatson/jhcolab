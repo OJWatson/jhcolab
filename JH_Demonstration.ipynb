{
  "nbformat": 4,
  "nbformat_minor": 0,
  "metadata": {
    "colab": {
      "name": "JH_Demonstration",
      "provenance": [],
      "authorship_tag": "ABX9TyMQqt/m2S0e+A8veCGDhNVa",
      "include_colab_link": true
    },
    "kernelspec": {
      "name": "ir",
      "display_name": "R"
    },
    "accelerator": "GPU"
  },
  "cells": [
    {
      "cell_type": "markdown",
      "metadata": {
        "id": "view-in-github",
        "colab_type": "text"
      },
      "source": [
        "<a href=\"https://colab.research.google.com/github/OJWatson/jhcolab/blob/master/JH_Demonstration.ipynb\" target=\"_parent\"><img src=\"https://colab.research.google.com/assets/colab-badge.svg\" alt=\"Open In Colab\"/></a>"
      ]
    },
    {
      "cell_type": "markdown",
      "metadata": {
        "id": "9o_HNK05BFiu",
        "colab_type": "text"
      },
      "source": [
        "This is a Jupyter notebook. It is similar to an Rmd notebook, but they can be used to run either Julia, Python or R. They were primarily developed for writing Python. Consequently, you write text and code into \"cells\", which can be thought of as sections of text blocks or code chunks in an .Rmd document \n",
        "\n",
        "**Cells** are markdown chunks, and so markdown tags and syntax can be used for text formatting. \n",
        "\n",
        "---\n",
        "\n"
      ]
    },
    {
      "cell_type": "markdown",
      "metadata": {
        "id": "MvCf_GN2Eq3u",
        "colab_type": "text"
      },
      "source": [
        "You can \"click\" through a Jupyter notebook by clicking Shift+Enter, which will execute the current cell and move the cursor to the next cell. Alternatively, to run a cell that contains code you can click on the \"Play\" button in the top left hand corner. When the code is running, you will see the \"Play\" button turn into a \"Pause\" button, which will allow you to stop the current cell while running. You can test this in the following code cell:"
      ]
    },
    {
      "cell_type": "code",
      "metadata": {
        "id": "bgf-_S2a_Ax9",
        "colab_type": "code",
        "colab": {
          "base_uri": "https://localhost:8080/",
          "height": 34
        },
        "outputId": "63dfcba9-ac0b-4d34-93cc-45dec074d22d"
      },
      "source": [
        "# In this cell we can write R code, which will be run on the Google Colab servers\n",
        "a <- 2\n",
        "print(a)"
      ],
      "execution_count": 2,
      "outputs": [
        {
          "output_type": "stream",
          "text": [
            "[1] 2\n"
          ],
          "name": "stdout"
        }
      ]
    },
    {
      "cell_type": "markdown",
      "metadata": {
        "id": "k515ooQ1HNgS",
        "colab_type": "text"
      },
      "source": [
        "There are advantages and disadvantages to using Google Colab Jupyter notebooks for teaching purposes. The main 3 advantages personally all result from moving where the code is running from their laptops to the Cloud. These result in:\n",
        "\n",
        "1. No issues associated with people running different versions of R or having to wait for people to download the required software.\n",
        "1. No issues with different machine operating systems across each student's machines.\n",
        "1. No concerns that individuals with have different machine capabilites that may cause delays when teaching code topics that require computation time. \n",
        "1. Sharing a notebook is very quick and easy. For example, you can embed an \"Open in Colab\" button at the top of your notebook, which allows people vieiwing the notebook on GitHub to instantly interact with the notebook.  "
      ]
    },
    {
      "cell_type": "markdown",
      "metadata": {
        "id": "D8TX0P2BKfph",
        "colab_type": "text"
      },
      "source": [
        "However, there are also a number of disadvantages, which relate to whether the Jupyter notebook is the most helpful format for teaching R. For example, I personally feel that Jupyter notebooks are bad for teaching R because:\n",
        "\n",
        "1. They obscure much of how R works and do not introduce the user how to run R locally. \n",
        "2. They rely on an internet connection. \n",
        "3. They are not very intuitive (what is a cell? How do I run the code? Where is my output?) and explaining what is actually going on (your code is not running locally but in the cloud) can cause a lot of confusion. \n",
        "\n",
        "---\n"
      ]
    },
    {
      "cell_type": "markdown",
      "metadata": {
        "id": "0EHuyIcGNfTC",
        "colab_type": "text"
      },
      "source": [
        "However, depending on the teaching format required they can be very helpful. For example, if you are teaching how to use a specific package or how to do a type of statistical modelling that requires a number of software requirements **and** you only have 2 hours, they are very useful. They enable users to quickly get to grips with the learning material, which is useful as it means you can spend more time answering questions about the topic rather than software set up etc. \n"
      ]
    },
    {
      "cell_type": "markdown",
      "metadata": {
        "id": "Y_YPuf7MWbid",
        "colab_type": "text"
      },
      "source": [
        "## Other issues with Colab"
      ]
    },
    {
      "cell_type": "markdown",
      "metadata": {
        "id": "oBp_eLmnS6Yk",
        "colab_type": "text"
      },
      "source": [
        "Although hosting the notebook in Google's servers is excellent for not having to worry about a user's runtime environment, it can cause teaching material that requires R packages to be downloaded to be slow for the user. Additionally, if the R package requries external libraries then these will need to be installed each time the notebook is loaded. For example, let's imagine you were teaching something that required **Stan**. You would need to run the following cell each time the notebook was loaded because Google Colab will give you a clean machine each time. "
      ]
    },
    {
      "cell_type": "code",
      "metadata": {
        "id": "uNvFuufTOGmX",
        "colab_type": "code",
        "colab": {
          "base_uri": "https://localhost:8080/",
          "height": 70
        },
        "outputId": "59b64d09-f8c8-4334-d9ab-c6776b2d62f0"
      },
      "source": [
        "install.packages(\"rgl\", repos = \"http://cran.rstudio.com/\")\n",
        "\n",
        "system(\"add-apt-repository -y ppa:marutter/rrutter\")\n",
        "system(\"add-apt-repository -y ppa:marutter/c2d4u\")\n",
        "system(\"apt-get update\")\n",
        "system(\"apt install -y r-cran-rstan\")\n",
        "\n",
        "Sys.setenv(USE_CXX14 = 1)\n",
        "library(\"rstan\") # observe startup messages\n",
        "options(mc.cores = parallel::detectCores())\n",
        "rstan_options(auto_write = TRUE)"
      ],
      "execution_count": 29,
      "outputs": [
        {
          "output_type": "stream",
          "text": [
            "Installing package into ‘/usr/local/lib/R/site-library’\n",
            "(as ‘lib’ is unspecified)\n",
            "\n"
          ],
          "name": "stderr"
        }
      ]
    },
    {
      "cell_type": "markdown",
      "metadata": {
        "id": "7TWEg6mviV6b",
        "colab_type": "text"
      },
      "source": [
        "This may not be the best teaching approach if you have more time with the students as it does not require them to learn about installing external libraries. However, it does allow you to reliably allow each student to use Stan. "
      ]
    },
    {
      "cell_type": "code",
      "metadata": {
        "id": "rh04A0tNZZg0",
        "colab_type": "code",
        "colab": {
          "base_uri": "https://localhost:8080/",
          "height": 376
        },
        "outputId": "52695221-823b-4ff5-9abc-cd5967faa26e"
      },
      "source": [
        "x <- seq(0, 2*pi, length.out=50)\n",
        "plot(x, sin(x))"
      ],
      "execution_count": 33,
      "outputs": [
        {
          "output_type": "display_data",
          "data": {
            "image/png": "[encoded data removed]",
            "text/plain": [
              "plot without title"
            ]
          },
          "metadata": {
            "tags": [],
            "image/png": {
              "width": 360,
              "height": 360
            },
            "text/plain": {
              "width": 360,
              "height": 360
            }
          }
        }
      ]
    },
    {
      "cell_type": "code",
      "metadata": {
        "id": "_vxBpPseadub",
        "colab_type": "code",
        "colab": {
          "base_uri": "https://localhost:8080/",
          "height": 230
        },
        "outputId": "04e190bd-5d8a-4cde-cafe-99345e56c154"
      },
      "source": [
        "stanmodelcode <- \"\n",
        "data {\n",
        "    int<lower=0> N; \n",
        "    real y[N];\n",
        "}\n",
        "\n",
        "parameters {\n",
        "    real mu; \n",
        "\n",
        "}\n",
        "\n",
        "model {\n",
        "    target += normal_lpdf(mu | 0, 10);\n",
        "    target += normal_lpdf(y | mu, 1);\n",
        "}\"\n",
        "\n",
        "y <- rnorm(20)\n",
        "dat <- list(N = 20, y = y);\n",
        "\n",
        "fit <- stan(model_code = stanmodelcode, model_name = \"example\",\n",
        "            data = dat, iter = 2012, chains = 8, sample_file = 'norm.csv',\n",
        "            verbose = FALSE,\n",
        "            refresh = -1)\n",
        "\n",
        "print(fit)"
      ],
      "execution_count": 27,
      "outputs": [
        {
          "output_type": "stream",
          "text": [
            "Inference for Stan model: example.\n",
            "8 chains, each with iter=2012; warmup=1006; thin=1; \n",
            "post-warmup draws per chain=1006, total post-warmup draws=8048.\n",
            "\n",
            "       mean se_mean   sd   2.5%    25%    50%    75%  97.5% n_eff Rhat\n",
            "mu     0.28    0.00 0.22  -0.16   0.12   0.27   0.43   0.71  3254    1\n",
            "lp__ -31.51    0.01 0.69 -33.45 -31.67 -31.25 -31.07 -31.02  3317    1\n",
            "\n",
            "Samples were drawn using NUTS(diag_e) at Mon Jan 20 10:41:19 2020.\n",
            "For each parameter, n_eff is a crude measure of effective sample size,\n",
            "and Rhat is the potential scale reduction factor on split chains (at \n",
            "convergence, Rhat=1).\n"
          ],
          "name": "stdout"
        }
      ]
    },
    {
      "cell_type": "code",
      "metadata": {
        "id": "Hi6QX775iHJI",
        "colab_type": "code",
        "colab": {
          "base_uri": "https://localhost:8080/",
          "height": 447
        },
        "outputId": "f86893d1-7968-4835-ea1b-4efbc108b97b"
      },
      "source": [
        "plot(fit)"
      ],
      "execution_count": 34,
      "outputs": [
        {
          "output_type": "stream",
          "text": [
            "ci_level: 0.8 (80% intervals)\n",
            "\n",
            "outer_level: 0.95 (95% intervals)\n",
            "\n"
          ],
          "name": "stderr"
        },
        {
          "output_type": "display_data",
          "data": {
            "image/png": "[encoded data removed]",
            "text/plain": [
              "plot without title"
            ]
          },
          "metadata": {
            "tags": [],
            "image/png": {
              "width": 360,
              "height": 360
            },
            "text/plain": {
              "width": 360,
              "height": 360
            }
          }
        }
      ]
    },
    {
      "cell_type": "code",
      "metadata": {
        "id": "D8SYpab2igja",
        "colab_type": "code",
        "colab": {}
      },
      "source": [
        ""
      ],
      "execution_count": 0,
      "outputs": []
    }
  ]
}